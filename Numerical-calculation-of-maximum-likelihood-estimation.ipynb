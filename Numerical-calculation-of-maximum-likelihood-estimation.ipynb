{
 "cells": [
  {
   "cell_type": "code",
   "execution_count": 1,
   "metadata": {},
   "outputs": [
    {
     "name": "stdout",
     "output_type": "stream",
     "text": [
      "estimated: [0.9676832  0.55559479]\n",
      "true   : [1.  0.5]\n"
     ]
    }
   ],
   "source": [
    "import numpy as np\n",
    "from scipy.optimize import minimize, Bounds\n",
    "N = 100\n",
    "theta = np.array([1.0, 0.5])\n",
    "X = 1.0 + 0.5 * np.random.randn(N)\n",
    "def nLL(theta):\n",
    "    return N / 2 * np.log(2 * np.pi * theta[1] ** 2) + np.sum(((X - theta[0]) / theta[1]) ** 2) / 2\n",
    "\n",
    "theta0 = np.array([0.0,1.0])\n",
    "bounds = Bounds([-np.inf, 1e-6], [np.inf, np.inf])\n",
    "res = minimize(nLL, theta0, bounds=bounds)\n",
    "print('estimated:', res['x'])\n",
    "print('true   :', theta)"
   ]
  },
  {
   "cell_type": "code",
   "execution_count": 2,
   "metadata": {},
   "outputs": [
    {
     "name": "stdout",
     "output_type": "stream",
     "text": [
      "estimated: [1.00805638 0.48437986]\n",
      "true   : [1.  0.5]\n"
     ]
    }
   ],
   "source": [
    "import numpy as np\n",
    "from scipy.optimize import minimize, Bounds\n",
    "N = 1000\n",
    "theta = np.array([1.0, 0.5])\n",
    "X = 1.0 + 0.5 * np.random.randn(N)\n",
    "def nLL(theta):\n",
    "    return N / 2 * np.log(2 * np.pi * theta[1] ** 2) + np.sum(((X - theta[0]) / theta[1]) ** 2) / 2\n",
    "\n",
    "theta0 = np.array([0.0,1.0])\n",
    "bounds = Bounds([-np.inf, 1e-6], [np.inf, np.inf])\n",
    "res = minimize(nLL, theta0, bounds=bounds)\n",
    "print('estimated:', res['x'])\n",
    "print('true   :', theta)"
   ]
  },
  {
   "cell_type": "code",
   "execution_count": 3,
   "metadata": {},
   "outputs": [
    {
     "name": "stdout",
     "output_type": "stream",
     "text": [
      "estimated: [0.99450954 0.49345641]\n",
      "true   : [1.  0.5]\n"
     ]
    }
   ],
   "source": [
    "import numpy as np\n",
    "from scipy.optimize import minimize, Bounds\n",
    "N = 10000\n",
    "theta = np.array([1.0, 0.5])\n",
    "X = 1.0 + 0.5 * np.random.randn(N)\n",
    "def nLL(theta):\n",
    "    return N / 2 * np.log(2 * np.pi * theta[1] ** 2) + np.sum(((X - theta[0]) / theta[1]) ** 2) / 2\n",
    "\n",
    "theta0 = np.array([0.0,1.0])\n",
    "bounds = Bounds([-np.inf, 1e-6], [np.inf, np.inf])\n",
    "res = minimize(nLL, theta0, bounds=bounds)\n",
    "print('estimated:', res['x'])\n",
    "print('true   :', theta)"
   ]
  },
  {
   "cell_type": "code",
   "execution_count": 7,
   "metadata": {},
   "outputs": [
    {
     "name": "stdout",
     "output_type": "stream",
     "text": [
      "[-3.5185737461153046, -2.7237623359300827, -2.311865678256879, 0.2856739824874266, 0.4494551711604886, 8.803000198124757]\n"
     ]
    }
   ],
   "source": [
    "import numpy as np\n",
    "from scipy.optimize import minimize, Bounds\n",
    "np.random.seed(20201015)\n",
    "p=[0.1, 0.1,0.1,0.2,0.2,0.3]\n",
    "X = np.random.choice(6, 1000, p=p)\n",
    "def nLL(theta):\n",
    "    res = None\n",
    "    make_arr = []\n",
    "    for x in X:\n",
    "        if len(make_arr) == len(theta):\n",
    "            pass #print(make_arr)\n",
    "        else:\n",
    "            make_arr.append(x)\n",
    "            continue\n",
    "        for k in make_arr:\n",
    "            if res == None:\n",
    "                res = np.exp(theta[k]) / np.sum(np.exp(theta))\n",
    "            else:\n",
    "                res += np.exp(theta[k]) / np.sum(np.exp(theta))\n",
    "        make_arr = []\n",
    "    return res/(len(X))\n",
    "\n",
    "theta0 = np.array([0.3, 0.2, 0.2, 0.1, 0.1, 0.1])\n",
    "bounds = Bounds([-np.inf,-np.inf,-np.inf,-np.inf,-np.inf,-np.inf], [np.inf, np.inf, np.inf, np.inf, np.inf, np.inf])\n",
    "res = minimize(nLL, theta0, bounds=bounds)\n",
    "print(sorted(res[\"x\"]))\n",
    "\n",
    "\n",
    "#n=1000のとき，[-3.5162080913375715, -2.716295571374434, -2.3124625971796244, 0.29032730526998846, 0.45349893899088667, 8.809831089014882]"
   ]
  },
  {
   "cell_type": "code",
   "execution_count": null,
   "metadata": {},
   "outputs": [],
   "source": []
  }
 ],
 "metadata": {
  "kernelspec": {
   "display_name": "Python 3",
   "language": "python",
   "name": "python3"
  },
  "language_info": {
   "codemirror_mode": {
    "name": "ipython",
    "version": 3
   },
   "file_extension": ".py",
   "mimetype": "text/x-python",
   "name": "python",
   "nbconvert_exporter": "python",
   "pygments_lexer": "ipython3",
   "version": "3.7.3"
  }
 },
 "nbformat": 4,
 "nbformat_minor": 2
}
