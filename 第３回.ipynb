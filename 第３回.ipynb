{
 "cells": [
  {
   "cell_type": "code",
   "execution_count": 6,
   "metadata": {},
   "outputs": [
    {
     "name": "stdout",
     "output_type": "stream",
     "text": [
      "estimated: [0.99285567 0.50613674]\n",
      "true   : [1.  0.5]\n"
     ]
    }
   ],
   "source": [
    "import numpy as np\n",
    "from scipy.optimize import minimize, Bounds\n",
    "N = 100\n",
    "theta = np.array([1.0, 0.5])\n",
    "X = 1.0 + 0.5 * np.random.randn(N)\n",
    "def nLL(theta):\n",
    "    return N / 2 * np.log(2 * np.pi * theta[1] ** 2) + np.sum(((X - theta[0]) / theta[1]) ** 2) / 2\n",
    "\n",
    "theta0 = np.array([0.0,1.0])\n",
    "bounds = Bounds([-np.inf, 1e-6], [np.inf, np.inf])\n",
    "res = minimize(nLL, theta0, bounds=bounds)\n",
    "print('estimated:', res['x'])\n",
    "print('true   :', theta)"
   ]
  },
  {
   "cell_type": "code",
   "execution_count": 16,
   "metadata": {},
   "outputs": [
    {
     "name": "stdout",
     "output_type": "stream",
     "text": [
      "estimated: [0.97972076 0.50310949]\n",
      "true   : [1.  0.5]\n"
     ]
    }
   ],
   "source": [
    "import numpy as np\n",
    "from scipy.optimize import minimize, Bounds\n",
    "N = 1000\n",
    "theta = np.array([1.0, 0.5])\n",
    "X = 1.0 + 0.5 * np.random.randn(N)\n",
    "def nLL(theta):\n",
    "    return N / 2 * np.log(2 * np.pi * theta[1] ** 2) + np.sum(((X - theta[0]) / theta[1]) ** 2) / 2\n",
    "\n",
    "theta0 = np.array([0.0,1.0])\n",
    "bounds = Bounds([-np.inf, 1e-6], [np.inf, np.inf])\n",
    "res = minimize(nLL, theta0, bounds=bounds)\n",
    "print('estimated:', res['x'])\n",
    "print('true   :', theta)"
   ]
  },
  {
   "cell_type": "code",
   "execution_count": 10,
   "metadata": {},
   "outputs": [
    {
     "name": "stdout",
     "output_type": "stream",
     "text": [
      "estimated: [1.00129245 0.50193109]\n",
      "true   : [1.  0.5]\n"
     ]
    }
   ],
   "source": [
    "import numpy as np\n",
    "from scipy.optimize import minimize, Bounds\n",
    "N = 10000\n",
    "theta = np.array([1.0, 0.5])\n",
    "X = 1.0 + 0.5 * np.random.randn(N)\n",
    "def nLL(theta):\n",
    "    return N / 2 * np.log(2 * np.pi * theta[1] ** 2) + np.sum(((X - theta[0]) / theta[1]) ** 2) / 2\n",
    "\n",
    "theta0 = np.array([0.0,1.0])\n",
    "bounds = Bounds([-np.inf, 1e-6], [np.inf, np.inf])\n",
    "res = minimize(nLL, theta0, bounds=bounds)\n",
    "print('estimated:', res['x'])\n",
    "print('true   :', theta)"
   ]
  },
  {
   "cell_type": "code",
   "execution_count": 7,
   "metadata": {},
   "outputs": [
    {
     "name": "stdout",
     "output_type": "stream",
     "text": [
      "-17.71148637562556\n"
     ]
    },
    {
     "ename": "IndexError",
     "evalue": "index 2 is out of bounds for axis 0 with size 2",
     "output_type": "error",
     "traceback": [
      "\u001b[1;31m---------------------------------------------------------------------------\u001b[0m",
      "\u001b[1;31mIndexError\u001b[0m                                Traceback (most recent call last)",
      "\u001b[1;32m<ipython-input-7-fe643d4bd36e>\u001b[0m in \u001b[0;36m<module>\u001b[1;34m\u001b[0m\n\u001b[0;32m     19\u001b[0m \u001b[0mtheta0\u001b[0m \u001b[1;33m=\u001b[0m \u001b[0mnp\u001b[0m\u001b[1;33m.\u001b[0m\u001b[0marray\u001b[0m\u001b[1;33m(\u001b[0m\u001b[1;33m[\u001b[0m\u001b[1;36m0.0\u001b[0m\u001b[1;33m,\u001b[0m\u001b[1;36m1.0\u001b[0m\u001b[1;33m]\u001b[0m\u001b[1;33m)\u001b[0m\u001b[1;33m\u001b[0m\u001b[1;33m\u001b[0m\u001b[0m\n\u001b[0;32m     20\u001b[0m \u001b[0mbounds\u001b[0m \u001b[1;33m=\u001b[0m \u001b[0mBounds\u001b[0m\u001b[1;33m(\u001b[0m\u001b[1;33m[\u001b[0m\u001b[1;33m-\u001b[0m\u001b[0mnp\u001b[0m\u001b[1;33m.\u001b[0m\u001b[0minf\u001b[0m\u001b[1;33m,\u001b[0m \u001b[1;36m1e-6\u001b[0m\u001b[1;33m]\u001b[0m\u001b[1;33m,\u001b[0m \u001b[1;33m[\u001b[0m\u001b[0mnp\u001b[0m\u001b[1;33m.\u001b[0m\u001b[0minf\u001b[0m\u001b[1;33m,\u001b[0m \u001b[0mnp\u001b[0m\u001b[1;33m.\u001b[0m\u001b[0minf\u001b[0m\u001b[1;33m]\u001b[0m\u001b[1;33m)\u001b[0m\u001b[1;33m\u001b[0m\u001b[1;33m\u001b[0m\u001b[0m\n\u001b[1;32m---> 21\u001b[1;33m \u001b[0mres\u001b[0m \u001b[1;33m=\u001b[0m \u001b[0mminimize\u001b[0m\u001b[1;33m(\u001b[0m\u001b[0mlog_L\u001b[0m\u001b[1;33m,\u001b[0m \u001b[0mtheta0\u001b[0m\u001b[1;33m,\u001b[0m \u001b[0mbounds\u001b[0m\u001b[1;33m=\u001b[0m\u001b[0mbounds\u001b[0m\u001b[1;33m)\u001b[0m\u001b[1;33m\u001b[0m\u001b[1;33m\u001b[0m\u001b[0m\n\u001b[0m\u001b[0;32m     22\u001b[0m \u001b[0mprint\u001b[0m\u001b[1;33m(\u001b[0m\u001b[1;34m\"estimated:\"\u001b[0m\u001b[1;33m,\u001b[0m \u001b[0mres\u001b[0m\u001b[1;33m[\u001b[0m\u001b[1;34m\"x\"\u001b[0m\u001b[1;33m]\u001b[0m\u001b[1;33m)\u001b[0m\u001b[1;33m\u001b[0m\u001b[1;33m\u001b[0m\u001b[0m\n",
      "\u001b[1;32m~\\Anaconda3\\lib\\site-packages\\scipy\\optimize\\_minimize.py\u001b[0m in \u001b[0;36mminimize\u001b[1;34m(fun, x0, args, method, jac, hess, hessp, bounds, constraints, tol, callback, options)\u001b[0m\n\u001b[0;32m    599\u001b[0m     \u001b[1;32melif\u001b[0m \u001b[0mmeth\u001b[0m \u001b[1;33m==\u001b[0m \u001b[1;34m'l-bfgs-b'\u001b[0m\u001b[1;33m:\u001b[0m\u001b[1;33m\u001b[0m\u001b[1;33m\u001b[0m\u001b[0m\n\u001b[0;32m    600\u001b[0m         return _minimize_lbfgsb(fun, x0, args, jac, bounds,\n\u001b[1;32m--> 601\u001b[1;33m                                 callback=callback, **options)\n\u001b[0m\u001b[0;32m    602\u001b[0m     \u001b[1;32melif\u001b[0m \u001b[0mmeth\u001b[0m \u001b[1;33m==\u001b[0m \u001b[1;34m'tnc'\u001b[0m\u001b[1;33m:\u001b[0m\u001b[1;33m\u001b[0m\u001b[1;33m\u001b[0m\u001b[0m\n\u001b[0;32m    603\u001b[0m         return _minimize_tnc(fun, x0, args, jac, bounds, callback=callback,\n",
      "\u001b[1;32m~\\Anaconda3\\lib\\site-packages\\scipy\\optimize\\lbfgsb.py\u001b[0m in \u001b[0;36m_minimize_lbfgsb\u001b[1;34m(fun, x0, args, jac, bounds, disp, maxcor, ftol, gtol, eps, maxfun, maxiter, iprint, callback, maxls, **unknown_options)\u001b[0m\n\u001b[0;32m    333\u001b[0m             \u001b[1;31m# until the completion of the current minimization iteration.\u001b[0m\u001b[1;33m\u001b[0m\u001b[1;33m\u001b[0m\u001b[1;33m\u001b[0m\u001b[0m\n\u001b[0;32m    334\u001b[0m             \u001b[1;31m# Overwrite f and g:\u001b[0m\u001b[1;33m\u001b[0m\u001b[1;33m\u001b[0m\u001b[1;33m\u001b[0m\u001b[0m\n\u001b[1;32m--> 335\u001b[1;33m             \u001b[0mf\u001b[0m\u001b[1;33m,\u001b[0m \u001b[0mg\u001b[0m \u001b[1;33m=\u001b[0m \u001b[0mfunc_and_grad\u001b[0m\u001b[1;33m(\u001b[0m\u001b[0mx\u001b[0m\u001b[1;33m)\u001b[0m\u001b[1;33m\u001b[0m\u001b[1;33m\u001b[0m\u001b[0m\n\u001b[0m\u001b[0;32m    336\u001b[0m         \u001b[1;32melif\u001b[0m \u001b[0mtask_str\u001b[0m\u001b[1;33m.\u001b[0m\u001b[0mstartswith\u001b[0m\u001b[1;33m(\u001b[0m\u001b[1;34mb'NEW_X'\u001b[0m\u001b[1;33m)\u001b[0m\u001b[1;33m:\u001b[0m\u001b[1;33m\u001b[0m\u001b[1;33m\u001b[0m\u001b[0m\n\u001b[0;32m    337\u001b[0m             \u001b[1;31m# new iteration\u001b[0m\u001b[1;33m\u001b[0m\u001b[1;33m\u001b[0m\u001b[1;33m\u001b[0m\u001b[0m\n",
      "\u001b[1;32m~\\Anaconda3\\lib\\site-packages\\scipy\\optimize\\lbfgsb.py\u001b[0m in \u001b[0;36mfunc_and_grad\u001b[1;34m(x)\u001b[0m\n\u001b[0;32m    278\u001b[0m     \u001b[1;32mif\u001b[0m \u001b[0mjac\u001b[0m \u001b[1;32mis\u001b[0m \u001b[1;32mNone\u001b[0m\u001b[1;33m:\u001b[0m\u001b[1;33m\u001b[0m\u001b[1;33m\u001b[0m\u001b[0m\n\u001b[0;32m    279\u001b[0m         \u001b[1;32mdef\u001b[0m \u001b[0mfunc_and_grad\u001b[0m\u001b[1;33m(\u001b[0m\u001b[0mx\u001b[0m\u001b[1;33m)\u001b[0m\u001b[1;33m:\u001b[0m\u001b[1;33m\u001b[0m\u001b[1;33m\u001b[0m\u001b[0m\n\u001b[1;32m--> 280\u001b[1;33m             \u001b[0mf\u001b[0m \u001b[1;33m=\u001b[0m \u001b[0mfun\u001b[0m\u001b[1;33m(\u001b[0m\u001b[0mx\u001b[0m\u001b[1;33m,\u001b[0m \u001b[1;33m*\u001b[0m\u001b[0margs\u001b[0m\u001b[1;33m)\u001b[0m\u001b[1;33m\u001b[0m\u001b[1;33m\u001b[0m\u001b[0m\n\u001b[0m\u001b[0;32m    281\u001b[0m             \u001b[0mg\u001b[0m \u001b[1;33m=\u001b[0m \u001b[0m_approx_fprime_helper\u001b[0m\u001b[1;33m(\u001b[0m\u001b[0mx\u001b[0m\u001b[1;33m,\u001b[0m \u001b[0mfun\u001b[0m\u001b[1;33m,\u001b[0m \u001b[0mepsilon\u001b[0m\u001b[1;33m,\u001b[0m \u001b[0margs\u001b[0m\u001b[1;33m=\u001b[0m\u001b[0margs\u001b[0m\u001b[1;33m,\u001b[0m \u001b[0mf0\u001b[0m\u001b[1;33m=\u001b[0m\u001b[0mf\u001b[0m\u001b[1;33m)\u001b[0m\u001b[1;33m\u001b[0m\u001b[1;33m\u001b[0m\u001b[0m\n\u001b[0;32m    282\u001b[0m             \u001b[1;32mreturn\u001b[0m \u001b[0mf\u001b[0m\u001b[1;33m,\u001b[0m \u001b[0mg\u001b[0m\u001b[1;33m\u001b[0m\u001b[1;33m\u001b[0m\u001b[0m\n",
      "\u001b[1;32m~\\Anaconda3\\lib\\site-packages\\scipy\\optimize\\optimize.py\u001b[0m in \u001b[0;36mfunction_wrapper\u001b[1;34m(*wrapper_args)\u001b[0m\n\u001b[0;32m    298\u001b[0m     \u001b[1;32mdef\u001b[0m \u001b[0mfunction_wrapper\u001b[0m\u001b[1;33m(\u001b[0m\u001b[1;33m*\u001b[0m\u001b[0mwrapper_args\u001b[0m\u001b[1;33m)\u001b[0m\u001b[1;33m:\u001b[0m\u001b[1;33m\u001b[0m\u001b[1;33m\u001b[0m\u001b[0m\n\u001b[0;32m    299\u001b[0m         \u001b[0mncalls\u001b[0m\u001b[1;33m[\u001b[0m\u001b[1;36m0\u001b[0m\u001b[1;33m]\u001b[0m \u001b[1;33m+=\u001b[0m \u001b[1;36m1\u001b[0m\u001b[1;33m\u001b[0m\u001b[1;33m\u001b[0m\u001b[0m\n\u001b[1;32m--> 300\u001b[1;33m         \u001b[1;32mreturn\u001b[0m \u001b[0mfunction\u001b[0m\u001b[1;33m(\u001b[0m\u001b[1;33m*\u001b[0m\u001b[1;33m(\u001b[0m\u001b[0mwrapper_args\u001b[0m \u001b[1;33m+\u001b[0m \u001b[0margs\u001b[0m\u001b[1;33m)\u001b[0m\u001b[1;33m)\u001b[0m\u001b[1;33m\u001b[0m\u001b[1;33m\u001b[0m\u001b[0m\n\u001b[0m\u001b[0;32m    301\u001b[0m \u001b[1;33m\u001b[0m\u001b[0m\n\u001b[0;32m    302\u001b[0m     \u001b[1;32mreturn\u001b[0m \u001b[0mncalls\u001b[0m\u001b[1;33m,\u001b[0m \u001b[0mfunction_wrapper\u001b[0m\u001b[1;33m\u001b[0m\u001b[1;33m\u001b[0m\u001b[0m\n",
      "\u001b[1;32m<ipython-input-7-fe643d4bd36e>\u001b[0m in \u001b[0;36mlog_L\u001b[1;34m(theta)\u001b[0m\n\u001b[0;32m     11\u001b[0m     \u001b[0mb\u001b[0m \u001b[1;33m=\u001b[0m \u001b[1;36m0\u001b[0m\u001b[1;33m\u001b[0m\u001b[1;33m\u001b[0m\u001b[0m\n\u001b[0;32m     12\u001b[0m     \u001b[1;32mfor\u001b[0m \u001b[0mi\u001b[0m \u001b[1;32min\u001b[0m \u001b[0mrange\u001b[0m\u001b[1;33m(\u001b[0m\u001b[1;36m5\u001b[0m\u001b[1;33m)\u001b[0m\u001b[1;33m:\u001b[0m\u001b[1;33m\u001b[0m\u001b[1;33m\u001b[0m\u001b[0m\n\u001b[1;32m---> 13\u001b[1;33m         \u001b[0ma\u001b[0m \u001b[1;33m+=\u001b[0m \u001b[0mtheta\u001b[0m\u001b[1;33m[\u001b[0m\u001b[0mi\u001b[0m\u001b[1;33m]\u001b[0m \u001b[1;31m#シグマのΘｋ\u001b[0m\u001b[1;33m\u001b[0m\u001b[1;33m\u001b[0m\u001b[0m\n\u001b[0m\u001b[0;32m     14\u001b[0m         \u001b[0mb\u001b[0m \u001b[1;33m+=\u001b[0m \u001b[0mnp\u001b[0m\u001b[1;33m.\u001b[0m\u001b[0mexp\u001b[0m\u001b[1;33m(\u001b[0m\u001b[0mtheta\u001b[0m\u001b[1;33m[\u001b[0m\u001b[0mi\u001b[0m\u001b[1;33m]\u001b[0m\u001b[1;33m)\u001b[0m\u001b[1;33m\u001b[0m\u001b[1;33m\u001b[0m\u001b[0m\n\u001b[0;32m     15\u001b[0m     \u001b[0mc\u001b[0m \u001b[1;33m=\u001b[0m \u001b[1;33m-\u001b[0m\u001b[1;36m6\u001b[0m \u001b[1;33m*\u001b[0m \u001b[0mnp\u001b[0m\u001b[1;33m.\u001b[0m\u001b[0mlog\u001b[0m\u001b[1;33m(\u001b[0m\u001b[0mb\u001b[0m\u001b[1;33m)\u001b[0m \u001b[1;31m# -6log(e^シグマΘL)\u001b[0m\u001b[1;33m\u001b[0m\u001b[1;33m\u001b[0m\u001b[0m\n",
      "\u001b[1;31mIndexError\u001b[0m: index 2 is out of bounds for axis 0 with size 2"
     ]
    }
   ],
   "source": [
    "import numpy as np\n",
    "from scipy.optimize import minimize, Bounds\n",
    "np.random.seed(20201015)\n",
    "p = [0.1, 0.1, 0.1, 0.2, 0.2, 0.3]\n",
    "X = np.random.choice(6, 1000, p=p)\n",
    "theta = np.array([1.0, 0.5])\n",
    "\n",
    "def log_L(theta):\n",
    "    answer = 0\n",
    "    a = 0\n",
    "    b = 0\n",
    "    for i in range(5):\n",
    "        a += theta[i] #シグマのΘｋ\n",
    "        b += np.exp(theta[i]) \n",
    "    c = -6 * np.log(b) # -6log(e^シグマΘL)\n",
    "    answer = a + c\n",
    "    return answer\n",
    "print(log_L([1,2,3,4,5]))\n",
    "theta0 = np.array([0.0,1.0])\n",
    "bounds = Bounds([-np.inf, 1e-6], [np.inf, np.inf])\n",
    "res = minimize(log_L, theta0, bounds=bounds)\n",
    "print(\"estimated:\", res[\"x\"])"
   ]
  },
  {
   "cell_type": "code",
   "execution_count": null,
   "metadata": {},
   "outputs": [],
   "source": [
    "theta0 = np.array([0.0, 1.0])\n",
    "\n",
    "res = minimize(log_L, theta0, bounds=bounds)\n",
    "print(\"estimated:\", res[\"x\"])"
   ]
  },
  {
   "cell_type": "code",
   "execution_count": 3,
   "metadata": {},
   "outputs": [
    {
     "name": "stdout",
     "output_type": "stream",
     "text": [
      "[-4.6909074647437015, -4.383665047063214, -4.305493981797044, 1.93912402171022, 3.3874691690123844, 9.16915845512526]\n"
     ]
    }
   ],
   "source": [
    "import numpy as np\n",
    "from scipy.optimize import minimize, Bounds\n",
    "def python(p):\n",
    "    np.random.seed(20201015)\n",
    "    X = np.random.choice(6, 100000, p=p)\n",
    "    def nLL(theta):\n",
    "        res = None\n",
    "        make_arr = []\n",
    "        for x in X:\n",
    "            if len(make_arr) == len(theta):\n",
    "                pass #print(make_arr)\n",
    "            else:\n",
    "                make_arr.append(x)\n",
    "                continue\n",
    "            for k in make_arr:\n",
    "                if res == None:\n",
    "                    res = np.exp(theta[k]) / np.sum(np.exp(theta))\n",
    "                else:\n",
    "                    res += np.exp(theta[k]) / np.sum(np.exp(theta))\n",
    "            make_arr = []\n",
    "        return res/(len(X))\n",
    "\n",
    "    theta0 = np.array([0.3, 0.2, 0.2, 0.1, 0.1, 0.1])\n",
    "    bounds = Bounds([-np.inf,-np.inf,-np.inf,-np.inf,-np.inf,-np.inf], [np.inf, np.inf, np.inf, np.inf, np.inf, np.inf])\n",
    "    res = minimize(nLL, theta0, bounds=bounds)\n",
    "    return sorted(res[\"x\"])\n",
    "\n",
    "print(python(sorted([0.1, 0.1, 0.1, 0.2, 0.2, 0.3])))\n",
    "#n=1000のとき，[-3.5162080913375715, -2.716295571374434, -2.3124625971796244, 0.29032730526998846, 0.45349893899088667, 8.809831089014882]"
   ]
  },
  {
   "cell_type": "code",
   "execution_count": 4,
   "metadata": {},
   "outputs": [
    {
     "name": "stdout",
     "output_type": "stream",
     "text": [
      "[-3.5185737461153046, -2.7237623359300827, -2.311865678256879, 0.2856739824874266, 0.4494551711604886, 8.803000198124757]\n"
     ]
    }
   ],
   "source": [
    "import numpy as np\n",
    "from scipy.optimize import minimize, Bounds\n",
    "np.random.seed(20201015)\n",
    "p=[0.1, 0.1,0.1,0.2,0.2,0.3]\n",
    "X = np.random.choice(6, 1000, p=p)\n",
    "def nLL(theta):\n",
    "    res = None\n",
    "    make_arr = []\n",
    "    for x in X:\n",
    "        if len(make_arr) == len(theta):\n",
    "            pass #print(make_arr)\n",
    "        else:\n",
    "            make_arr.append(x)\n",
    "            continue\n",
    "        for k in make_arr:\n",
    "            if res == None:\n",
    "                res = np.exp(theta[k]) / np.sum(np.exp(theta))\n",
    "            else:\n",
    "                res += np.exp(theta[k]) / np.sum(np.exp(theta))\n",
    "        make_arr = []\n",
    "    return res/(len(X))\n",
    "\n",
    "theta0 = np.array([0.3, 0.2, 0.2, 0.1, 0.1, 0.1])\n",
    "bounds = Bounds([-np.inf,-np.inf,-np.inf,-np.inf,-np.inf,-np.inf], [np.inf, np.inf, np.inf, np.inf, np.inf, np.inf])\n",
    "res = minimize(nLL, theta0, bounds=bounds)\n",
    "print(sorted(res[\"x\"]))\n",
    "\n",
    "\n",
    "#n=1000のとき，[-3.5162080913375715, -2.716295571374434, -2.3124625971796244, 0.29032730526998846, 0.45349893899088667, 8.809831089014882]"
   ]
  },
  {
   "cell_type": "code",
   "execution_count": 17,
   "metadata": {
    "scrolled": true
   },
   "outputs": [
    {
     "name": "stdout",
     "output_type": "stream",
     "text": [
      "estimated: [-5.2565390064129405, -1.9232455941465199, -0.8130117073841647, -0.36650363587107204, 0.19035108462816955, 9.171903193627502]\n"
     ]
    }
   ],
   "source": [
    "import numpy as np\n",
    "from scipy.optimize import minimize, Bounds\n",
    "np.random.seed(20201015)\n",
    "p=[0.1, 0.1,0.1,0.2,0.2,0.3]\n",
    "X = np.random.choice(6, 100, p=p)\n",
    "\n",
    "def nLL(theta):\n",
    "    array = []\n",
    "    result = None\n",
    "    for i in X:\n",
    "        if len(array) == len(theta): #Σ\n",
    "            pass \n",
    "        else:\n",
    "            array.append(i)\n",
    "            continue\n",
    "        for n in array: # 確率モデルPrの定義\n",
    "            if result == None:\n",
    "                result = np.exp(theta[n]) / np.sum(np.exp(theta))\n",
    "            else:\n",
    "                result += np.exp(theta[n]) / np.sum(np.exp(theta))\n",
    "        array.clear()\n",
    "    final_result = result / len(X)\n",
    "    return final_result\n",
    "\n",
    "theta0 = np.array([0.3, 0.2, 0.2, 0.1, 0.1, 0.1])\n",
    "bounds = Bounds([-np.inf,-np.inf,-np.inf,-np.inf,-np.inf,-np.inf], [np.inf, np.inf, np.inf, np.inf, np.inf, np.inf])\n",
    "res = minimize(nLL, theta0, bounds=bounds)\n",
    "print('estimated:', sorted(res['x']))\n",
    "\n",
    "\n"
   ]
  },
  {
   "cell_type": "code",
   "execution_count": null,
   "metadata": {},
   "outputs": [],
   "source": []
  }
 ],
 "metadata": {
  "kernelspec": {
   "display_name": "Python 3",
   "language": "python",
   "name": "python3"
  },
  "language_info": {
   "codemirror_mode": {
    "name": "ipython",
    "version": 3
   },
   "file_extension": ".py",
   "mimetype": "text/x-python",
   "name": "python",
   "nbconvert_exporter": "python",
   "pygments_lexer": "ipython3",
   "version": "3.7.3"
  }
 },
 "nbformat": 4,
 "nbformat_minor": 2
}
